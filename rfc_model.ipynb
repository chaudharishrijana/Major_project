{
 "cells": [
  {
   "cell_type": "code",
   "execution_count": 1,
   "metadata": {},
   "outputs": [],
   "source": [
    "import pandas as pd\n",
    "import pickle as pk\n",
    "from sklearn.ensemble import RandomForestClassifier\n",
    "from sklearn.metrics import classification_report\n",
    "from sklearn.model_selection import train_test_split\n",
    "\n",
    "import warnings\n",
    "warnings.filterwarnings(\"ignore\")"
   ]
  },
  {
   "cell_type": "code",
   "execution_count": 2,
   "metadata": {},
   "outputs": [
    {
     "name": "stdout",
     "output_type": "stream",
     "text": [
      "Columns in the CSV file: Index(['left_elbow_angle', 'right_elbow_angle', 'left_knee_angle',\n",
      "       'pose_label'],\n",
      "      dtype='object')\n",
      "   left_elbow_angle  right_elbow_angle  left_knee_angle  pose_label\n",
      "0         82.993042          96.026463       107.469198           0\n",
      "1         82.993042          96.026463       107.469198           0\n",
      "2         59.620457          62.170704       144.586993           0\n",
      "3         59.620457          62.170704       144.586993           0\n",
      "4         82.278301          78.136977       123.224905           0\n",
      "Data successfully split into training and testing sets.\n",
      "Training data shape: (202, 3), Test data shape: (51, 3)\n"
     ]
    }
   ],
   "source": [
    "# Load the CSV file\n",
    "data_pose = pd.read_csv(\"./csv_files/poses_data_pose.csv\")\n",
    "\n",
    "# Inspect the columns and first few rows to find the correct column names\n",
    "print(\"Columns in the CSV file:\", data_pose.columns)  # List all column names\n",
    "print(data_pose.head())   # Preview the first few rows\n",
    "\n",
    "# Based on the inspection, replace 'pose_label' with the correct column name for your pose labels\n",
    "# Here, I'll assume 'pose_label' is the correct name based on previous messages\n",
    "# Update the column names based on the output above if it's different\n",
    "\n",
    "try:\n",
    "    # Split the data into features and target (pose label)\n",
    "    features = data_pose.drop([\"pose_label\"], axis=1)  # Replace 'pose_label' with actual label column name\n",
    "    target = data_pose[[\"pose_label\"]]  # Replace 'pose_label' with the actual label column name\n",
    "\n",
    "    # Split into training and testing datasets\n",
    "    X_train, X_test, y_train, y_test = train_test_split(\n",
    "        features, target, test_size=0.2, random_state=42\n",
    "    )\n",
    "\n",
    "    print(\"Data successfully split into training and testing sets.\")\n",
    "    print(f\"Training data shape: {X_train.shape}, Test data shape: {X_test.shape}\")\n",
    "except KeyError as e:\n",
    "    print(f\"Error: The column '{e.args[0]}' does not exist in the dataset. Please check the column names.\")\n"
   ]
  },
  {
   "cell_type": "code",
   "execution_count": 11,
   "metadata": {},
   "outputs": [
    {
     "name": "stdout",
     "output_type": "stream",
     "text": [
      "Model and additional data saved successfully!\n"
     ]
    }
   ],
   "source": [
    "# Train a RandomForest model\n",
    "model = RandomForestClassifier(n_estimators=100, random_state=42)\n",
    "model.fit(X_train, y_train)\n",
    "\n",
    "# Save the model and other data\n",
    "data_all_pose_model = {\"model\": model, \"other_data\": {\"additional_info\": \"Some extra data here\"}}\n",
    "\n",
    "# Save the model and data\n",
    "pk.dump(data_all_pose_model, open(f\"./models/poses.model\", \"wb\"))\n",
    "\n",
    "print(\"Model and additional data saved successfully!\")"
   ]
  },
  {
   "cell_type": "code",
   "execution_count": null,
   "metadata": {},
   "outputs": [],
   "source": []
  }
 ],
 "metadata": {
  "kernelspec": {
   "display_name": "Python 3 (ipykernel)",
   "language": "python",
   "name": "python3"
  },
  "language_info": {
   "codemirror_mode": {
    "name": "ipython",
    "version": 3
   },
   "file_extension": ".py",
   "mimetype": "text/x-python",
   "name": "python",
   "nbconvert_exporter": "python",
   "pygments_lexer": "ipython3",
   "version": "3.10.9"
  }
 },
 "nbformat": 4,
 "nbformat_minor": 4
}
